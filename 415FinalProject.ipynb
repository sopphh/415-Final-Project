{
 "cells": [
  {
   "cell_type": "code",
   "execution_count": null,
   "metadata": {},
   "outputs": [],
   "source": [
    "import pandas as pd\n",
    "import numpy as np\n",
    "from sklearn.model_selection import GridSearchCV, train_test_split, cross_val_score,  KFold\n",
    "from sklearn.ensemble import RandomForestRegressor, GradientBoostingRegressor, StackingRegressor\n",
    "from sklearn.metrics import accuracy_score\n",
    "from sklearn.preprocessing import StandardScaler\n",
    "from sklearn.metrics import root_mean_squared_error, mean_absolute_error, r2_score\n",
    "from xgboost import XGBRegressor\n",
    "from sklearn.impute import SimpleImputer\n",
    "import seaborn as sns\n",
    "import matplotlib.pyplot as plt\n",
    "from sklearn.metrics import mean_squared_error"
   ]
  },
  {
   "cell_type": "code",
   "execution_count": 36,
   "metadata": {},
   "outputs": [
    {
     "name": "stdout",
     "output_type": "stream",
     "text": [
      "(1460, 81)\n"
     ]
    },
    {
     "data": {
      "text/html": [
       "<div>\n",
       "<style scoped>\n",
       "    .dataframe tbody tr th:only-of-type {\n",
       "        vertical-align: middle;\n",
       "    }\n",
       "\n",
       "    .dataframe tbody tr th {\n",
       "        vertical-align: top;\n",
       "    }\n",
       "\n",
       "    .dataframe thead th {\n",
       "        text-align: right;\n",
       "    }\n",
       "</style>\n",
       "<table border=\"1\" class=\"dataframe\">\n",
       "  <thead>\n",
       "    <tr style=\"text-align: right;\">\n",
       "      <th></th>\n",
       "      <th>Id</th>\n",
       "      <th>MSSubClass</th>\n",
       "      <th>MSZoning</th>\n",
       "      <th>LotFrontage</th>\n",
       "      <th>LotArea</th>\n",
       "      <th>Street</th>\n",
       "      <th>Alley</th>\n",
       "      <th>LotShape</th>\n",
       "      <th>LandContour</th>\n",
       "      <th>Utilities</th>\n",
       "      <th>...</th>\n",
       "      <th>PoolArea</th>\n",
       "      <th>PoolQC</th>\n",
       "      <th>Fence</th>\n",
       "      <th>MiscFeature</th>\n",
       "      <th>MiscVal</th>\n",
       "      <th>MoSold</th>\n",
       "      <th>YrSold</th>\n",
       "      <th>SaleType</th>\n",
       "      <th>SaleCondition</th>\n",
       "      <th>SalePrice</th>\n",
       "    </tr>\n",
       "  </thead>\n",
       "  <tbody>\n",
       "    <tr>\n",
       "      <th>0</th>\n",
       "      <td>1</td>\n",
       "      <td>60</td>\n",
       "      <td>RL</td>\n",
       "      <td>65.0</td>\n",
       "      <td>8450</td>\n",
       "      <td>Pave</td>\n",
       "      <td>NaN</td>\n",
       "      <td>Reg</td>\n",
       "      <td>Lvl</td>\n",
       "      <td>AllPub</td>\n",
       "      <td>...</td>\n",
       "      <td>0</td>\n",
       "      <td>NaN</td>\n",
       "      <td>NaN</td>\n",
       "      <td>NaN</td>\n",
       "      <td>0</td>\n",
       "      <td>2</td>\n",
       "      <td>2008</td>\n",
       "      <td>WD</td>\n",
       "      <td>Normal</td>\n",
       "      <td>208500</td>\n",
       "    </tr>\n",
       "    <tr>\n",
       "      <th>1</th>\n",
       "      <td>2</td>\n",
       "      <td>20</td>\n",
       "      <td>RL</td>\n",
       "      <td>80.0</td>\n",
       "      <td>9600</td>\n",
       "      <td>Pave</td>\n",
       "      <td>NaN</td>\n",
       "      <td>Reg</td>\n",
       "      <td>Lvl</td>\n",
       "      <td>AllPub</td>\n",
       "      <td>...</td>\n",
       "      <td>0</td>\n",
       "      <td>NaN</td>\n",
       "      <td>NaN</td>\n",
       "      <td>NaN</td>\n",
       "      <td>0</td>\n",
       "      <td>5</td>\n",
       "      <td>2007</td>\n",
       "      <td>WD</td>\n",
       "      <td>Normal</td>\n",
       "      <td>181500</td>\n",
       "    </tr>\n",
       "    <tr>\n",
       "      <th>2</th>\n",
       "      <td>3</td>\n",
       "      <td>60</td>\n",
       "      <td>RL</td>\n",
       "      <td>68.0</td>\n",
       "      <td>11250</td>\n",
       "      <td>Pave</td>\n",
       "      <td>NaN</td>\n",
       "      <td>IR1</td>\n",
       "      <td>Lvl</td>\n",
       "      <td>AllPub</td>\n",
       "      <td>...</td>\n",
       "      <td>0</td>\n",
       "      <td>NaN</td>\n",
       "      <td>NaN</td>\n",
       "      <td>NaN</td>\n",
       "      <td>0</td>\n",
       "      <td>9</td>\n",
       "      <td>2008</td>\n",
       "      <td>WD</td>\n",
       "      <td>Normal</td>\n",
       "      <td>223500</td>\n",
       "    </tr>\n",
       "  </tbody>\n",
       "</table>\n",
       "<p>3 rows × 81 columns</p>\n",
       "</div>"
      ],
      "text/plain": [
       "   Id  MSSubClass MSZoning  LotFrontage  LotArea Street Alley LotShape  \\\n",
       "0   1          60       RL         65.0     8450   Pave   NaN      Reg   \n",
       "1   2          20       RL         80.0     9600   Pave   NaN      Reg   \n",
       "2   3          60       RL         68.0    11250   Pave   NaN      IR1   \n",
       "\n",
       "  LandContour Utilities  ... PoolArea PoolQC Fence MiscFeature MiscVal MoSold  \\\n",
       "0         Lvl    AllPub  ...        0    NaN   NaN         NaN       0      2   \n",
       "1         Lvl    AllPub  ...        0    NaN   NaN         NaN       0      5   \n",
       "2         Lvl    AllPub  ...        0    NaN   NaN         NaN       0      9   \n",
       "\n",
       "  YrSold  SaleType  SaleCondition  SalePrice  \n",
       "0   2008        WD         Normal     208500  \n",
       "1   2007        WD         Normal     181500  \n",
       "2   2008        WD         Normal     223500  \n",
       "\n",
       "[3 rows x 81 columns]"
      ]
     },
     "execution_count": 36,
     "metadata": {},
     "output_type": "execute_result"
    }
   ],
   "source": [
    "# EDA\n",
    "data = pd.read_csv('train.csv')\n",
    "print(data.shape)\n",
    "data.head(3)"
   ]
  },
  {
   "cell_type": "code",
   "execution_count": null,
   "metadata": {},
   "outputs": [
    {
     "data": {
      "image/png": "[encoded data removed]",
      "text/plain": [
       "<Figure size 500x500 with 1 Axes>"
      ]
     },
     "metadata": {},
     "output_type": "display_data"
    }
   ],
   "source": [
    "sns.set_style(\"white\")\n",
    "sns.set_color_codes(palette='deep')\n",
    "# Check the new distribution \n",
    "sns.displot(data['SalePrice'], color=\"g\", kde=True)\n",
    "sns.despine(trim=True, left=True)"
   ]
  },
  {
   "cell_type": "code",
   "execution_count": 37,
   "metadata": {},
   "outputs": [
    {
     "name": "stdout",
     "output_type": "stream",
     "text": [
      "Columns missing at least 50 percent of values:\n",
      " Index(['Alley', 'MasVnrType', 'PoolQC', 'Fence', 'MiscFeature'], dtype='object')\n",
      "(1460, 75)\n"
     ]
    }
   ],
   "source": [
    "data.drop('Id', axis = 1, inplace=True)\n",
    "\n",
    "# drop all columns with >= 50% NaN values\n",
    "threshold = len(data) * 0.5\n",
    "cols_to_drop = data.columns[data.isnull().sum() >= threshold]\n",
    "data.drop(cols_to_drop, axis=1, inplace=True)\n",
    "data.reset_index(drop=True, inplace=True)\n",
    "\n",
    "print(\"Columns missing at least 50 percent of values:\\n\", cols_to_drop)\n",
    "print(data.shape)"
   ]
  },
  {
   "cell_type": "code",
   "execution_count": null,
   "metadata": {},
   "outputs": [
    {
     "name": "stdout",
     "output_type": "stream",
     "text": [
      "Object Columns:\n",
      " Index(['MSZoning', 'Street', 'LotShape', 'LandContour', 'Utilities',\n",
      "       'LotConfig', 'LandSlope', 'Neighborhood', 'Condition1', 'Condition2',\n",
      "       'BldgType', 'HouseStyle', 'RoofStyle', 'RoofMatl', 'Exterior1st',\n",
      "       'Exterior2nd', 'ExterQual', 'ExterCond', 'Foundation', 'BsmtQual',\n",
      "       'BsmtCond', 'BsmtExposure', 'BsmtFinType1', 'BsmtFinType2', 'Heating',\n",
      "       'HeatingQC', 'CentralAir', 'Electrical', 'KitchenQual', 'Functional',\n",
      "       'FireplaceQu', 'GarageType', 'GarageFinish', 'GarageQual', 'GarageCond',\n",
      "       'PavedDrive', 'SaleType', 'SaleCondition'],\n",
      "      dtype='object')\n",
      "Columns that contain missing values:\n",
      "Column: LotFrontage, Column type: float64, Null Values: 259\n",
      "Column: MasVnrArea, Column type: float64, Null Values: 8\n",
      "Column: GarageYrBlt, Column type: float64, Null Values: 81\n",
      "Missing values in y: 0\n"
     ]
    }
   ],
   "source": [
    "# Which variables are of type object? These will be transformed using dummy variables. \n",
    "# This will increase the column dimension of our dataframe, but we have enough samples that this shouldn't be an issue for modeling\n",
    "object_columns = data.select_dtypes(include=['object']).columns\n",
    "print(\"Object Columns:\\n\", object_columns)\n",
    "\n",
    "# Make dummies\n",
    "data_dummied = pd.get_dummies(data, columns=object_columns, drop_first=True)\n",
    "data_dummied.reset_index(drop=True, inplace=True)\n",
    "\n",
    "X = data_dummied.drop(columns='SalePrice', axis=1)\n",
    "y = data_dummied['SalePrice']\n",
    "y = np.log(y)\n",
    "\n",
    "# Normalize the entire new dataframe column wise\n",
    "scaler = StandardScaler()\n",
    "X = pd.DataFrame(scaler.fit_transform(X), columns=data_dummied.columns)\n",
    "\n",
    "# We will use the train data set as provided by Kaggle are our main data, and use the test set provided by Kaggle as a validation set\n",
    "\n",
    "# Check missing data\n",
    "null_counts = X.isnull().sum()\n",
    "null_columns = null_counts[null_counts > 0]\n",
    "\n",
    "# Printing the columns and their respective null value counts\n",
    "print(\"Columns that contain missing values:\")\n",
    "for column, null_count in null_columns.items():\n",
    "    print(f\"Column: {column}, Column type: {X[column].dtype}, Null Values: {null_count}\")\n",
    "\n",
    "print(\"Missing values in y:\", y.isnull().sum())\n",
    "\n",
    "# Median imputation\n",
    "missing_cols = X.columns[X.isnull().any()]\n",
    "imputer = SimpleImputer(strategy='median')\n",
    "X[missing_cols] = imputer.fit_transform(X[missing_cols])"
   ]
  },
  {
   "cell_type": "code",
   "execution_count": 41,
   "metadata": {},
   "outputs": [],
   "source": [
    "# Split the data into training and test sets\n",
    "X_train, X_test, y_train, y_test = train_test_split(X, y, test_size=0.2, random_state=42)\n",
    "\n",
    "# Normalize train and test sets independently\n",
    "scaler = StandardScaler()\n",
    "X_train_normalized = scaler.fit_transform(X_train)\n",
    "X_test_normalized = scaler.transform(X_test)\n",
    "\n",
    "X_train_normalized_df = pd.DataFrame(X_train_normalized, columns=X_train.columns)\n",
    "X_test_normalized_df = pd.DataFrame(X_test_normalized, columns=X_test.columns)"
   ]
  },
  {
   "cell_type": "markdown",
   "metadata": {},
   "source": [
    "Evaluation functions"
   ]
  },
  {
   "cell_type": "markdown",
   "metadata": {},
   "source": [
    "Submissions are evaluated on Root-Mean-Squared-Error (RMSE) between the logarithm of the predicted value and the logarithm of the observed sales price. (Taking logs means that errors in predicting expensive houses and cheap houses will affect the result equally.)"
   ]
  },
  {
   "cell_type": "code",
   "execution_count": null,
   "metadata": {},
   "outputs": [],
   "source": [
    "def evaluate(model, test_features, test_labels):\n",
    "    predictions = model.predict(test_features)\n",
    "\n",
    "    # rmse = root_mean_squared_error(test_labels, predictions)\n",
    "    rmse_log = np.sqrt(np.mean((np.log(predictions) - np.log(test_labels)) ** 2))\n",
    "    mae = mean_absolute_error(test_labels, predictions)\n",
    "    r2 = r2_score(test_labels, predictions)\n",
    "\n",
    "    # Printing regression metrics\n",
    "    print('Mean Absolute Error: {:.2f}'.format(mae))\n",
    "    print('Root Mean Squared Error Log: {:.2f}'.format(rmse_log))\n",
    "    print('R^2 Score: {:.2f}'.format(r2)) "
   ]
  },
  {
   "cell_type": "markdown",
   "metadata": {},
   "source": [
    "Random Forest"
   ]
  },
  {
   "cell_type": "code",
   "execution_count": null,
   "metadata": {},
   "outputs": [
    {
     "name": "stdout",
     "output_type": "stream",
     "text": [
      "Mean Absolute Error: 0.24\n",
      "Root Mean Squared Error: 0.39\n",
      "R^2 Score: 0.88\n",
      "Fitting 5 folds for each of 720 candidates, totalling 3600 fits\n",
      "Best parameters: {'bootstrap': False, 'max_depth': 80, 'max_features': 'sqrt', 'min_samples_leaf': 1, 'min_samples_split': 2, 'n_estimators': 1000}\n",
      "Mean Absolute Error: 0.22\n",
      "Root Mean Squared Error: 0.38\n",
      "R^2 Score: 0.88\n",
      "Cross-Validated RMSE: 0.4184770333850487\n"
     ]
    }
   ],
   "source": [
    "# For later comparison to determine if grid search improved performace\n",
    "base_model = RandomForestRegressor(n_estimators = 10, random_state = 42)\n",
    "base_model.fit(X_train_normalized_df, y_train)\n",
    "print('Base model metrics:')\n",
    "base_accuracy = evaluate(base_model, X_test_normalized_df, y_test)\n",
    "\n",
    "# Parameters grid for GridSearch\n",
    "param_grid = {\n",
    "    'n_estimators': [100, 200, 300, 1000],\n",
    "    'max_features': ['sqrt', 'log2'],\n",
    "    'max_depth': [80, 100, 150, 200, 300],\n",
    "    'min_samples_split': [2, 5, 10],\n",
    "    'min_samples_leaf': [1, 2, 4],\n",
    "    'bootstrap': [True, False]\n",
    "}\n",
    "\n",
    "# Create and train the random forest regressor using GridSearchCV with 5-fold cross validation\n",
    "model = RandomForestRegressor(random_state=42)\n",
    "grid_search = GridSearchCV(estimator=model, param_grid=param_grid, cv=5, n_jobs=-1, verbose=2, scoring='neg_mean_squared_error')\n",
    "grid_search.fit(X_train_normalized_df, y_train)\n",
    "\n",
    "# Best parameters from GridSearchCV\n",
    "best_params = grid_search.best_params_\n",
    "print(f'Best parameters: {best_params}')\n",
    "\n",
    "# Get test performance measures from best estimator\n",
    "best_rf_model = grid_search.best_estimator_ \n",
    "print(\"Grid search model metrics:\")\n",
    "evaluate(best_rf_model, X_test, y_test)\n",
    "\n",
    "# Average RMSE across the folds\n",
    "cv_scores = grid_search.cv_results_['mean_test_score']\n",
    "cv_rmse = (-cv_scores.mean()) ** 0.5\n",
    "print(f'Cross-Validated RMSE: {cv_rmse}')"
   ]
  },
  {
   "cell_type": "markdown",
   "metadata": {},
   "source": [
    "XGBoost"
   ]
  },
  {
   "cell_type": "code",
   "execution_count": 31,
   "metadata": {},
   "outputs": [
    {
     "name": "stdout",
     "output_type": "stream",
     "text": [
      "Fitting 5 folds for each of 108 candidates, totalling 540 fits\n",
      "Best Parameters: {'colsample_bytree': 0.8, 'learning_rate': 0.2, 'max_depth': 3, 'n_estimators': 200, 'subsample': 1.0}\n",
      "Best Score (negative MSE): -0.11812151841404459\n",
      "Mean Absolute Error: 0.35\n",
      "Root Mean Squared Error: 0.45\n",
      "R^2 Score: 0.83\n"
     ]
    }
   ],
   "source": [
    "# Prepare the parameter grid for Grid Search\n",
    "param_grid = {\n",
    "    'n_estimators': [50, 100, 200],\n",
    "    'learning_rate': [0.01, 0.1, 0.2],\n",
    "    'max_depth': [3, 5, 7],\n",
    "    'subsample': [0.8, 1.0],\n",
    "    'colsample_bytree': [0.8, 1.0]\n",
    "}\n",
    "\n",
    "# Prepare the XGBRegressor\n",
    "xgb_model = XGBRegressor(objective='reg:squarederror')\n",
    "\n",
    "# Implement 10-fold cross-validation with grid search\n",
    "grid_search = GridSearchCV(estimator=xgb_model, param_grid=param_grid, cv=5, n_jobs=-1, verbose=2, scoring='neg_mean_squared_error')\n",
    "grid_search.fit(X_train_normalized_df, y_train)\n",
    "\n",
    "# Get the best parameters and the corresponding score\n",
    "best_params = grid_search.best_params_\n",
    "best_score = grid_search.best_score_\n",
    "\n",
    "print(f\"Best Parameters: {best_params}\")\n",
    "print(f\"Best Score (negative MSE): {best_score}\")\n",
    "\n",
    "best_xgb_model = grid_search.best_estimator_\n",
    "evaluate(best_xgb_model, X_test, y_test)"
   ]
  },
  {
   "cell_type": "code",
   "execution_count": null,
   "metadata": {},
   "outputs": [],
   "source": [
    "# median imputing"
   ]
  },
  {
   "cell_type": "markdown",
   "metadata": {},
   "source": [
    "Gradient Boosting"
   ]
  },
  {
   "cell_type": "code",
   "execution_count": 42,
   "metadata": {},
   "outputs": [
    {
     "name": "stdout",
     "output_type": "stream",
     "text": [
      "Fitting 5 folds for each of 243 candidates, totalling 1215 fits\n"
     ]
    },
    {
     "name": "stderr",
     "output_type": "stream",
     "text": [
      "c:\\Users\\rtesi\\AppData\\Local\\Programs\\Python\\Python312\\Lib\\site-packages\\sklearn\\model_selection\\_validation.py:547: FitFailedWarning: \n",
      "405 fits failed out of a total of 1215.\n",
      "The score on these train-test partitions for these parameters will be set to nan.\n",
      "If these failures are not expected, you can try to debug them by setting error_score='raise'.\n",
      "\n",
      "Below are more details about the failures:\n",
      "--------------------------------------------------------------------------------\n",
      "290 fits failed with the following error:\n",
      "Traceback (most recent call last):\n",
      "  File \"c:\\Users\\rtesi\\AppData\\Local\\Programs\\Python\\Python312\\Lib\\site-packages\\sklearn\\model_selection\\_validation.py\", line 895, in _fit_and_score\n",
      "    estimator.fit(X_train, y_train, **fit_params)\n",
      "  File \"c:\\Users\\rtesi\\AppData\\Local\\Programs\\Python\\Python312\\Lib\\site-packages\\sklearn\\base.py\", line 1467, in wrapper\n",
      "    estimator._validate_params()\n",
      "  File \"c:\\Users\\rtesi\\AppData\\Local\\Programs\\Python\\Python312\\Lib\\site-packages\\sklearn\\base.py\", line 666, in _validate_params\n",
      "    validate_parameter_constraints(\n",
      "  File \"c:\\Users\\rtesi\\AppData\\Local\\Programs\\Python\\Python312\\Lib\\site-packages\\sklearn\\utils\\_param_validation.py\", line 95, in validate_parameter_constraints\n",
      "    raise InvalidParameterError(\n",
      "sklearn.utils._param_validation.InvalidParameterError: The 'max_features' parameter of GradientBoostingRegressor must be an int in the range [1, inf), a float in the range (0.0, 1.0], a str among {'sqrt', 'log2'} or None. Got 'auto' instead.\n",
      "\n",
      "--------------------------------------------------------------------------------\n",
      "115 fits failed with the following error:\n",
      "Traceback (most recent call last):\n",
      "  File \"c:\\Users\\rtesi\\AppData\\Local\\Programs\\Python\\Python312\\Lib\\site-packages\\sklearn\\model_selection\\_validation.py\", line 895, in _fit_and_score\n",
      "    estimator.fit(X_train, y_train, **fit_params)\n",
      "  File \"c:\\Users\\rtesi\\AppData\\Local\\Programs\\Python\\Python312\\Lib\\site-packages\\sklearn\\base.py\", line 1467, in wrapper\n",
      "    estimator._validate_params()\n",
      "  File \"c:\\Users\\rtesi\\AppData\\Local\\Programs\\Python\\Python312\\Lib\\site-packages\\sklearn\\base.py\", line 666, in _validate_params\n",
      "    validate_parameter_constraints(\n",
      "  File \"c:\\Users\\rtesi\\AppData\\Local\\Programs\\Python\\Python312\\Lib\\site-packages\\sklearn\\utils\\_param_validation.py\", line 95, in validate_parameter_constraints\n",
      "    raise InvalidParameterError(\n",
      "sklearn.utils._param_validation.InvalidParameterError: The 'max_features' parameter of GradientBoostingRegressor must be an int in the range [1, inf), a float in the range (0.0, 1.0], a str among {'log2', 'sqrt'} or None. Got 'auto' instead.\n",
      "\n",
      "  warnings.warn(some_fits_failed_message, FitFailedWarning)\n",
      "c:\\Users\\rtesi\\AppData\\Local\\Programs\\Python\\Python312\\Lib\\site-packages\\sklearn\\model_selection\\_search.py:1051: UserWarning: One or more of the test scores are non-finite: [        nan         nan         nan         nan         nan         nan\n",
      "         nan         nan         nan -0.40663447 -0.40526286 -0.40772362\n",
      " -0.24426719 -0.24603237 -0.24388235 -0.19047352 -0.19167213 -0.18936606\n",
      " -0.48294887 -0.47981788 -0.47355266 -0.29983604 -0.29788994 -0.29573\n",
      " -0.22729555 -0.22327939 -0.22444135         nan         nan         nan\n",
      "         nan         nan         nan         nan         nan         nan\n",
      " -0.33231786 -0.33204018 -0.33251195 -0.19047264 -0.18963891 -0.19142263\n",
      " -0.15186298 -0.1507779  -0.15157379 -0.39609437 -0.39114718 -0.38949505\n",
      " -0.23014289 -0.22687229 -0.22564924 -0.17827046 -0.17351475 -0.16992648\n",
      "         nan         nan         nan         nan         nan         nan\n",
      "         nan         nan         nan -0.30790749 -0.30667228 -0.30985316\n",
      " -0.17885995 -0.17711324 -0.17807188 -0.14604304 -0.144701   -0.14567731\n",
      " -0.3414522  -0.34510021 -0.34259177 -0.19677072 -0.19711922 -0.19637727\n",
      " -0.15374281 -0.15491263 -0.15490277         nan         nan         nan\n",
      "         nan         nan         nan         nan         nan         nan\n",
      " -0.15057228 -0.1468516  -0.13898424 -0.1410288  -0.13842575 -0.13010654\n",
      " -0.13499892 -0.13628933 -0.12665433 -0.16542124 -0.15688117 -0.15749146\n",
      " -0.14876086 -0.14168971 -0.14118124 -0.1453061  -0.1361894  -0.13757176\n",
      "         nan         nan         nan         nan         nan         nan\n",
      "         nan         nan         nan -0.13579359 -0.12013125 -0.13628759\n",
      " -0.13311938 -0.11597512 -0.13330262 -0.13290173 -0.11578019 -0.13341317\n",
      " -0.14308927 -0.13347452 -0.13700146 -0.13687244 -0.12679649 -0.13053548\n",
      " -0.13573955 -0.12615408 -0.12956918         nan         nan         nan\n",
      "         nan         nan         nan         nan         nan         nan\n",
      " -0.14145109 -0.15399265 -0.13651304 -0.14017717 -0.15259537 -0.13559162\n",
      " -0.13997481 -0.15249604 -0.13548251 -0.14810172 -0.14093445 -0.13983035\n",
      " -0.14667319 -0.13807176 -0.13811105 -0.14650267 -0.13771807 -0.13795775\n",
      "         nan         nan         nan         nan         nan         nan\n",
      "         nan         nan         nan -0.14207786 -0.17031795 -0.14654634\n",
      " -0.13891068 -0.16755933 -0.14021815 -0.13528152 -0.16318105 -0.13973921\n",
      " -0.18707255 -0.17617453 -0.14184757 -0.18124865 -0.16705201 -0.13250849\n",
      " -0.18064651 -0.16573222 -0.12967586         nan         nan         nan\n",
      "         nan         nan         nan         nan         nan         nan\n",
      " -0.15240729 -0.15563528 -0.13980085 -0.15107074 -0.15486157 -0.13906277\n",
      " -0.15136602 -0.15503977 -0.13899802 -0.15719571 -0.14081191 -0.146858\n",
      " -0.15587215 -0.13990073 -0.14666978 -0.15663264 -0.13994893 -0.14732394\n",
      "         nan         nan         nan         nan         nan         nan\n",
      "         nan         nan         nan -0.16368347 -0.14443799 -0.14430635\n",
      " -0.16342221 -0.14442147 -0.14415376 -0.16341623 -0.1443851  -0.14415278\n",
      " -0.15561437 -0.13908194 -0.16653588 -0.15496436 -0.1391825  -0.16672067\n",
      " -0.15488758 -0.1392538  -0.16663453]\n",
      "  warnings.warn(\n"
     ]
    },
    {
     "name": "stdout",
     "output_type": "stream",
     "text": [
      "Best Parameters found by Grid Search: {'learning_rate': 0.1, 'max_depth': 5, 'max_features': 'sqrt', 'n_estimators': 300, 'subsample': 0.8}\n",
      "Mean Absolute Error: 0.21\n",
      "Root Mean Squared Error: 0.34\n",
      "R^2 Score: 0.91\n"
     ]
    }
   ],
   "source": [
    "# Define the parameter grid for Grid Search\n",
    "param_grid = {\n",
    "    'n_estimators': [100, 200, 300],\n",
    "    'learning_rate': [0.01, 0.1, 0.2],\n",
    "    'max_depth': [3, 5, 7],\n",
    "    'subsample': [0.6, 0.8, 1.0],\n",
    "    'max_features': ['auto', 'sqrt', 'log2']\n",
    "}\n",
    "\n",
    "# Initialize and perform 5 fold cross validation with a grid search for a gradient boosting regressor\n",
    "gbr_regressor = GradientBoostingRegressor(random_state=42)\n",
    "grid_search = GridSearchCV(estimator=gbr_regressor, param_grid=param_grid, cv=5, n_jobs=-1, scoring='neg_mean_squared_error', verbose=2)\n",
    "grid_search.fit(X_train, y_train)\n",
    "\n",
    "print(\"Best Parameters found by Grid Search:\", grid_search.best_params_)\n",
    "\n",
    "# Extract the best estimator\n",
    "best_gbr_model = grid_search.best_estimator_\n",
    "evaluate(best_gbr_model, X_test, y_test)"
   ]
  },
  {
   "cell_type": "code",
   "execution_count": 45,
   "metadata": {},
   "outputs": [
    {
     "name": "stdout",
     "output_type": "stream",
     "text": [
      "Mean Absolute Error: 0.22\n",
      "Root Mean Squared Error: 0.40\n",
      "R^2 Score: 0.87\n"
     ]
    }
   ],
   "source": [
    "stacking_regressor = StackingRegressor(\n",
    "    estimators=[\n",
    "        ('rf', best_rf_model),\n",
    "        ('xgb', best_xgb_model),\n",
    "        ('grb', best_gbr_model)\n",
    "    ],\n",
    "    final_estimator=XGBRegressor(n_estimators=100, learning_rate=0.1, random_state=42)\n",
    ")\n",
    "\n",
    "# Fit the Stacking Regressor to the training data\n",
    "stacking_regressor.fit(X_train, y_train)\n",
    "evaluate(stacking_regressor, X_test, y_test)"
   ]
  },
  {
   "cell_type": "markdown",
   "metadata": {},
   "source": [
    "Attempting better performance:"
   ]
  },
  {
   "cell_type": "code",
   "execution_count": null,
   "metadata": {},
   "outputs": [],
   "source": [
    "kfold = KFold(n_splits=12, random_state=42, shuffle=True)"
   ]
  }
 ],
 "metadata": {
  "kernelspec": {
   "display_name": "Python 3",
   "language": "python",
   "name": "python3"
  },
  "language_info": {
   "codemirror_mode": {
    "name": "ipython",
    "version": 3
   },
   "file_extension": ".py",
   "mimetype": "text/x-python",
   "name": "python",
   "nbconvert_exporter": "python",
   "pygments_lexer": "ipython3",
   "version": "3.12.1"
  }
 },
 "nbformat": 4,
 "nbformat_minor": 2
}
